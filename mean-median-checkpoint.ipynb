{
  "cells": [
    {
      "metadata": {
        "collapsed": true
      },
      "cell_type": "markdown",
      "source": "## Mean-Median 分析ってのが\n\nMethodology\nWe calculated the mean Democratic vote share and the median Democratic vote share for every state\nwith more than six districts, and then subtracted the mean from the median. To determine statistical\nsignificance, we use the standard Wang proposes to calculate a significance level: \n> 選挙区が6以上ある州で票の割合のmean(平均)からmedian(中央値)を引いたと\n\n$$\n    Significance level = \\frac{[mean-median differences] * \\sqrt{number of districts}}{0.756 * [standard deviation]}\n$$\n\n[markdown数式](https://qiita.com/namoshika/items/63db972bfd1030f8264a)\n\n\nThe result is significant when the significance level is ≥ 1.75.\n\n289が小選挙区<-日本\n435が定数<-米国下院"
    },
    {
      "metadata": {
        "trusted": true
      },
      "cell_type": "code",
      "source": "!pip uninstall pandas --y",
      "execution_count": null,
      "outputs": []
    },
    {
      "metadata": {
        "trusted": true
      },
      "cell_type": "code",
      "source": "#加工済みデータがあるので読み込む\nimport pandas as pd \nimport numpy as np\n\ndf = pd.read_excel(\"kakikaezumi.xlsx\")",
      "execution_count": 1,
      "outputs": []
    },
    {
      "metadata": {
        "trusted": true
      },
      "cell_type": "code",
      "source": "import statistics\nimport math",
      "execution_count": 2,
      "outputs": []
    },
    {
      "metadata": {
        "trusted": true
      },
      "cell_type": "code",
      "source": "pd.set_option('display.max_rows', 100)\npd.set_option('display.max_columns', 100)",
      "execution_count": 3,
      "outputs": []
    },
    {
      "metadata": {
        "trusted": true
      },
      "cell_type": "code",
      "source": "def get_pref(prefid):\n    get_pref = df[df[\"prefid\"] == prefid] \n    return get_pref",
      "execution_count": 4,
      "outputs": []
    },
    {
      "metadata": {
        "trusted": true
      },
      "cell_type": "code",
      "source": "pref = get_pref(2)\npref[\"distnum\"][-1:]",
      "execution_count": 5,
      "outputs": [
        {
          "output_type": "execute_result",
          "execution_count": 5,
          "data": {
            "text/plain": "39    3\nName: distnum, dtype: int64"
          },
          "metadata": {}
        }
      ]
    },
    {
      "metadata": {
        "trusted": true
      },
      "cell_type": "code",
      "source": "#どうやってmean,medianを取り出す??\n#dataframeの形でとりあえず各県各党の該当箇所を抜き出しました\nzikou_df = pref[pref[\"party\"] == \"X\"]\nyatou1_df = pref[pref[\"party\"] == \"Y\"]\nyatou2_df = pref[pref[\"party\"] == \"Z\"]\n\n#vshareはパーセンテージなんですよね、/100します\nzikou_vshare = zikou_df.loc[:,\"vshare\"]\nzikou_vshare = zikou_vshare.values.tolist()\n#map使うとイテレータを返すからダメ\nzikou_vshare_decimal = [n / 100 for n in zikou_vshare]\n\nyatou1_vshare = yatou1_df.loc[:,\"vshare\"]\nyatou1_vshare = yatou1_vshare.values.tolist()\nyatou1_vshare_decimal = [n / 100 for n in yatou1_vshare]\n\nyatou2_vshare = yatou2_df.loc[:,\"vshare\"]\nyatou2_vshare = yatou2_vshare.values.tolist()\nyatou2_vshare_decimal = [n / 100 for n in yatou2_vshare]",
      "execution_count": 6,
      "outputs": []
    },
    {
      "metadata": {
        "trusted": true
      },
      "cell_type": "code",
      "source": "zikou_mean = sum(zikou_vshare_decimal) / len(zikou_vshare_decimal)\n#後で/100でよかったやろこれ\n#zikou_mean = statistics.mean(zikou_vshare_decimal)",
      "execution_count": 7,
      "outputs": []
    },
    {
      "metadata": {
        "trusted": true
      },
      "cell_type": "code",
      "source": "zikou_median = statistics.median(zikou_vshare_decimal)",
      "execution_count": 8,
      "outputs": []
    },
    {
      "metadata": {
        "trusted": true
      },
      "cell_type": "code",
      "source": "yatou1_mean = statistics.mean(yatou1_vshare_decimal)\nyatou1_median = statistics.median(yatou1_vshare_decimal)\nyatou2_mean = statistics.mean(yatou2_vshare_decimal)\nyatou2_mean = statistics.median(yatou2_vshare_decimal)",
      "execution_count": 9,
      "outputs": []
    },
    {
      "metadata": {
        "trusted": true
      },
      "cell_type": "code",
      "source": "zikou_mean-zikou_median",
      "execution_count": 10,
      "outputs": [
        {
          "output_type": "execute_result",
          "execution_count": 10,
          "data": {
            "text/plain": "-0.02970000000000006"
          },
          "metadata": {}
        }
      ]
    },
    {
      "metadata": {
        "trusted": true
      },
      "cell_type": "code",
      "source": "yatou2_mean",
      "execution_count": 11,
      "outputs": [
        {
          "output_type": "execute_result",
          "execution_count": 11,
          "data": {
            "text/plain": "0.2686"
          },
          "metadata": {}
        }
      ]
    },
    {
      "metadata": {
        "trusted": true
      },
      "cell_type": "code",
      "source": "number_dist = pd.read_excel(\"japangr_data.xlsx\")",
      "execution_count": 12,
      "outputs": []
    },
    {
      "metadata": {
        "trusted": true
      },
      "cell_type": "code",
      "source": "number_dist.head()",
      "execution_count": 13,
      "outputs": [
        {
          "output_type": "execute_result",
          "execution_count": 13,
          "data": {
            "text/html": "<div>\n<style scoped>\n    .dataframe tbody tr th:only-of-type {\n        vertical-align: middle;\n    }\n\n    .dataframe tbody tr th {\n        vertical-align: top;\n    }\n\n    .dataframe thead th {\n        text-align: right;\n    }\n</style>\n<table border=\"1\" class=\"dataframe\">\n  <thead>\n    <tr style=\"text-align: right;\">\n      <th></th>\n      <th>都道府県</th>\n      <th>自公候補者数</th>\n      <th>野党共闘1候補者数</th>\n      <th>野党共闘2候補者数</th>\n      <th>自公-野党1ギャップ</th>\n      <th>自公-野党2ギャップ</th>\n      <th>野党1-野党2ギャップ</th>\n    </tr>\n  </thead>\n  <tbody>\n    <tr>\n      <th>0</th>\n      <td>Hokkaido</td>\n      <td>12</td>\n      <td>11</td>\n      <td>3</td>\n      <td>4.931747</td>\n      <td>19.167939</td>\n      <td>14.236193</td>\n    </tr>\n    <tr>\n      <th>1</th>\n      <td>Aomori</td>\n      <td>3</td>\n      <td>3</td>\n      <td>3</td>\n      <td>23.149340</td>\n      <td>3.837029</td>\n      <td>-19.312310</td>\n    </tr>\n    <tr>\n      <th>2</th>\n      <td>Iwate</td>\n      <td>3</td>\n      <td>1</td>\n      <td>2</td>\n      <td>26.277754</td>\n      <td>9.003199</td>\n      <td>-17.274554</td>\n    </tr>\n    <tr>\n      <th>3</th>\n      <td>Miyagi</td>\n      <td>6</td>\n      <td>4</td>\n      <td>2</td>\n      <td>12.973675</td>\n      <td>19.198569</td>\n      <td>6.224894</td>\n    </tr>\n    <tr>\n      <th>4</th>\n      <td>Akita</td>\n      <td>3</td>\n      <td>3</td>\n      <td>3</td>\n      <td>0.277795</td>\n      <td>-34.448280</td>\n      <td>-34.726075</td>\n    </tr>\n  </tbody>\n</table>\n</div>",
            "text/plain": "       都道府県  自公候補者数  野党共闘1候補者数  野党共闘2候補者数  自公-野党1ギャップ  自公-野党2ギャップ  野党1-野党2ギャップ\n0  Hokkaido      12         11          3    4.931747   19.167939    14.236193\n1    Aomori       3          3          3   23.149340    3.837029   -19.312310\n2     Iwate       3          1          2   26.277754    9.003199   -17.274554\n3    Miyagi       6          4          2   12.973675   19.198569     6.224894\n4     Akita       3          3          3    0.277795  -34.448280   -34.726075"
          },
          "metadata": {}
        }
      ]
    },
    {
      "metadata": {
        "trusted": true
      },
      "cell_type": "code",
      "source": "number_dist[number_dist[\"自公-野党2ギャップ\"] == 0]",
      "execution_count": 14,
      "outputs": [
        {
          "output_type": "execute_result",
          "execution_count": 14,
          "data": {
            "text/html": "<div>\n<style scoped>\n    .dataframe tbody tr th:only-of-type {\n        vertical-align: middle;\n    }\n\n    .dataframe tbody tr th {\n        vertical-align: top;\n    }\n\n    .dataframe thead th {\n        text-align: right;\n    }\n</style>\n<table border=\"1\" class=\"dataframe\">\n  <thead>\n    <tr style=\"text-align: right;\">\n      <th></th>\n      <th>都道府県</th>\n      <th>自公候補者数</th>\n      <th>野党共闘1候補者数</th>\n      <th>野党共闘2候補者数</th>\n      <th>自公-野党1ギャップ</th>\n      <th>自公-野党2ギャップ</th>\n      <th>野党1-野党2ギャップ</th>\n    </tr>\n  </thead>\n  <tbody>\n    <tr>\n      <th>14</th>\n      <td>Niigata</td>\n      <td>6</td>\n      <td>6</td>\n      <td>0</td>\n      <td>14.328199</td>\n      <td>0.0</td>\n      <td>0.0</td>\n    </tr>\n    <tr>\n      <th>31</th>\n      <td>Shimane</td>\n      <td>2</td>\n      <td>1</td>\n      <td>0</td>\n      <td>15.380103</td>\n      <td>0.0</td>\n      <td>0.0</td>\n    </tr>\n  </tbody>\n</table>\n</div>",
            "text/plain": "       都道府県  自公候補者数  野党共闘1候補者数  野党共闘2候補者数  自公-野党1ギャップ  自公-野党2ギャップ  野党1-野党2ギャップ\n14  Niigata       6          6          0   14.328199         0.0          0.0\n31  Shimane       2          1          0   15.380103         0.0          0.0"
          },
          "metadata": {}
        }
      ]
    },
    {
      "metadata": {
        "trusted": true
      },
      "cell_type": "code",
      "source": "#選挙区数6以上の県は?\nkaranoframe = []\ni = 1\nwhile i <= 47:\n    pref = get_pref(i)\n    num_of_dis = pref[\"distnum\"][-1:]\n    if int(num_of_dis) < 6:\n        karanoframe.append(int(pref[\"prefid\"][-1:]))\n        i += 1\n        continue\n    i += 1",
      "execution_count": 15,
      "outputs": []
    },
    {
      "metadata": {
        "trusted": true
      },
      "cell_type": "markdown",
      "source": "~~~python\nef_all_party = get_pref(prefid).loc[\"自公連立\":\"野党共闘(希維)\",get_pref(prefid).columns.isin([\"自公連立\",\"野党共闘(立共社自)\",\"野党共闘(希維)\"])]\n    #ef_zimin = kong.loc[:,kong.columns.isin([\"野党共闘(希維)\"])]\n    \n    if len(ef_all_party) < 3:\n        ef_zimin_yatou1 = ef_all_party.iat[0,1]\n        ef_zimin_yatou2 = 0\n        ef_yatou1_yatou2 = 0\n    \n    else:\n        ef_zimin_yatou1 = ef_all_party.iat[0,1]\n        ef_zimin_yatou2 = ef_all_party.iat[0,2]\n        ef_yatou1_yatou2 = ef_all_party.iat[1,2]\n            \n    table_japan.iat[prefid - 1,4] = ef_zimin_yatou1\n    table_japan.iat[prefid - 1,5] = ef_zimin_yatou2\n    table_japan.iat[prefid - 1,6] = ef_yatou1_yatou2\n~~~"
    },
    {
      "metadata": {
        "trusted": true
      },
      "cell_type": "code",
      "source": "table_mm = np.random.rand(47,11)\ntable_mm = pd.DataFrame(table_mm)\ntable_mm.index = number_dist[\"都道府県\"]\ntable_mm.columns = [\"選挙区数\",\"自公候補者数\",\"野党1候補者数\",\"野党2候補者数\",\"mean-median_自公\",\"mean-median_野党1\",\"mean_median_野党2\",\"標準偏差_自公\",\n                    \"標準偏差_野党1\",\"標準偏差_野党2\",\"県番号\"]\ntable_mm = table_mm[table_mm[:] ==0]\ntable_mm.loc[:,\"県番号\"] = [bango for bango in range(1,48)]",
      "execution_count": 16,
      "outputs": []
    },
    {
      "metadata": {
        "trusted": true
      },
      "cell_type": "code",
      "source": "k = 1\nwhile k <= 47:\n    pref = get_pref(k)\n    \n    #各党候補者数の入力\n    table_mm.iat[k-1,1] = number_dist.iat[k-1,1]\n    table_mm.iat[k-1,2] = number_dist.iat[k-1,2]\n    table_mm.iat[k-1,3] = number_dist.iat[k-1,3]\n    \n    #各県の選挙区数\n    table_mm.iat[k-1,0] = pref[\"distnum\"][-1:]\n    \n    #各勢力のmean,median\n    if k == 15 or k == 32:\n        #dataframeの形でとりあえず各県各党の該当箇所を抜き出しました\n        zikou_df = pref[pref[\"party\"] == \"X\"]\n        yatou1_df = pref[pref[\"party\"] == \"Y\"]\n\n        #vshareはパーセンテージなんですよね、/100します\n        zikou_vshare = zikou_df.loc[:,\"vshare\"]\n        zikou_vshare = zikou_vshare.values.tolist()\n        zikou_vshare_decimal = [n / 100 for n in zikou_vshare]\n        \n        sddv_zikou = np.array(zikou_vshare_decimal)\n        table_mm.iat[k-1,7] = np.std(sddv_zikou)\n        \n        yatou1_vshare = yatou1_df.loc[:,\"vshare\"]\n        yatou1_vshare = yatou1_vshare.values.tolist()\n        yatou1_vshare_decimal = [n / 100 for n in yatou1_vshare]\n        \n        sddv_yatou1 = np.array(yatou1_vshare_decimal)\n        table_mm.iat[k-1,8] = np.std(sddv_yatou1)\n    \n        zikou_mean = statistics.mean(zikou_vshare_decimal)\n        zikou_median = statistics.median(zikou_vshare_decimal)\n        yatou1_mean = statistics.mean(yatou1_vshare_decimal)\n        yatou1_median = statistics.median(yatou1_vshare_decimal)\n        yatou2_mean = 0\n        yatou2_median = 0\n        \n        table_mm.iat[k-1,4] = zikou_median-zikou_mean\n        table_mm.iat[k-1,5] = yatou1_median-yatou1_mean\n        table_mm.iat[k-1,6] = 0\n        \n        #significance_level\n        #table_mm.iat[k-1,10] = (table_mm.iat[k-1,4] * (table_mm.iat[k-1,0]**0.5)) / (0.756 * table_mm.iat[k-1,7])\n        #table_mm.iat[k-1,11] = (table_mm.iat[k-1,5] * (table_mm.iat[k-1,0]**0.5)) / (0.756 * table_mm.iat[k-1,8])\n        #table_mm.iat[k-1,12] = 0\n        \n        k += 1\n        continue\n        \n    #dataframeの形でとりあえず各県各党の該当箇所を抜き出しました\n    zikou_df = pref[pref[\"party\"] == \"X\"]\n    yatou1_df = pref[pref[\"party\"] == \"Y\"]\n    yatou2_df = pref[pref[\"party\"] == \"Z\"]\n\n    #vshareはパーセンテージなんですよね、/100します\n    zikou_vshare = zikou_df.loc[:,\"vshare\"]\n    zikou_vshare = zikou_vshare.values.tolist()\n    #map使うとイテレータを返すからダメ\n    zikou_vshare_decimal = [n / 100 for n in zikou_vshare]\n    \n    sddv_zikou = np.array(zikou_vshare_decimal)\n    table_mm.iat[k-1,7] = np.std(sddv_zikou)\n\n    yatou1_vshare = yatou1_df.loc[:,\"vshare\"]\n    yatou1_vshare = yatou1_vshare.values.tolist()\n    yatou1_vshare_decimal = [n / 100 for n in yatou1_vshare]\n    \n    sddv_yatou1 = np.array(yatou1_vshare_decimal)\n    table_mm.iat[k-1,8] = np.std(sddv_yatou1)\n\n    yatou2_vshare = yatou2_df.loc[:,\"vshare\"]\n    yatou2_vshare = yatou2_vshare.values.tolist()\n    yatou2_vshare_decimal = [n / 100 for n in yatou2_vshare]\n    \n    sddv_yatou2 = np.array(yatou2_vshare_decimal)\n    table_mm.iat[k-1,9] = np.std(sddv_yatou2)\n    \n    zikou_mean = statistics.mean(zikou_vshare_decimal)\n    zikou_median = statistics.median(zikou_vshare_decimal)\n    yatou1_mean = statistics.mean(yatou1_vshare_decimal)\n    yatou1_median = statistics.median(yatou1_vshare_decimal)\n    yatou2_mean = statistics.mean(yatou2_vshare_decimal)\n    yatou2_median = statistics.median(yatou2_vshare_decimal)\n    \n    table_mm.iat[k-1,4] = zikou_median - zikou_mean\n    table_mm.iat[k-1,5] = yatou1_median - yatou1_mean\n    table_mm.iat[k-1,6] = yatou2_median - yatou2_mean    \n    #significance_level\n    #table_mm.iat[k-1,10] = (table_mm.iat[k-1,4] * (table_mm.iat[k-1,0]**0.5)) / (0.756 * table_mm.iat[k-1,7])\n    #table_mm.iat[k-1,11] = (table_mm.iat[k-1,5] * (table_mm.iat[k-1,0]**0.5)) / (0.756 * table_mm.iat[k-1,8])\n    #table_mm.iat[k-1,12] = (table_mm.iat[k-1,6] * (table_mm.iat[k-1,0]**0.5)) / (0.756 * table_mm.iat[k-1,9])\n    \n    k += 1\n    ",
      "execution_count": 17,
      "outputs": []
    },
    {
      "metadata": {},
      "cell_type": "markdown",
      "source": "### mean,medianの定義上、候補者が2人しかいない場合はmean=medianとなり、差が0になります"
    },
    {
      "metadata": {
        "trusted": true
      },
      "cell_type": "code",
      "source": "table_mm.head()",
      "execution_count": 18,
      "outputs": [
        {
          "output_type": "execute_result",
          "execution_count": 18,
          "data": {
            "text/html": "<div>\n<style scoped>\n    .dataframe tbody tr th:only-of-type {\n        vertical-align: middle;\n    }\n\n    .dataframe tbody tr th {\n        vertical-align: top;\n    }\n\n    .dataframe thead th {\n        text-align: right;\n    }\n</style>\n<table border=\"1\" class=\"dataframe\">\n  <thead>\n    <tr style=\"text-align: right;\">\n      <th></th>\n      <th>選挙区数</th>\n      <th>自公候補者数</th>\n      <th>野党1候補者数</th>\n      <th>野党2候補者数</th>\n      <th>mean-median_自公</th>\n      <th>mean-median_野党1</th>\n      <th>mean_median_野党2</th>\n      <th>標準偏差_自公</th>\n      <th>標準偏差_野党1</th>\n      <th>標準偏差_野党2</th>\n      <th>県番号</th>\n    </tr>\n    <tr>\n      <th>都道府県</th>\n      <th></th>\n      <th></th>\n      <th></th>\n      <th></th>\n      <th></th>\n      <th></th>\n      <th></th>\n      <th></th>\n      <th></th>\n      <th></th>\n      <th></th>\n    </tr>\n  </thead>\n  <tbody>\n    <tr>\n      <th>Hokkaido</th>\n      <td>12.0</td>\n      <td>12.0</td>\n      <td>11.0</td>\n      <td>3.0</td>\n      <td>-0.023242</td>\n      <td>0.077736</td>\n      <td>0.043600</td>\n      <td>0.062567</td>\n      <td>0.156616</td>\n      <td>0.102248</td>\n      <td>1</td>\n    </tr>\n    <tr>\n      <th>Aomori</th>\n      <td>3.0</td>\n      <td>3.0</td>\n      <td>3.0</td>\n      <td>3.0</td>\n      <td>0.029700</td>\n      <td>-0.003100</td>\n      <td>-0.019767</td>\n      <td>0.043353</td>\n      <td>0.011118</td>\n      <td>0.038055</td>\n      <td>2</td>\n    </tr>\n    <tr>\n      <th>Iwate</th>\n      <td>3.0</td>\n      <td>3.0</td>\n      <td>1.0</td>\n      <td>2.0</td>\n      <td>-0.020333</td>\n      <td>0.000000</td>\n      <td>0.000000</td>\n      <td>0.092248</td>\n      <td>0.000000</td>\n      <td>0.046850</td>\n      <td>3</td>\n    </tr>\n    <tr>\n      <th>Miyagi</th>\n      <td>6.0</td>\n      <td>6.0</td>\n      <td>4.0</td>\n      <td>2.0</td>\n      <td>-0.017983</td>\n      <td>-0.053025</td>\n      <td>0.000000</td>\n      <td>0.154553</td>\n      <td>0.097110</td>\n      <td>0.005250</td>\n      <td>4</td>\n    </tr>\n    <tr>\n      <th>Akita</th>\n      <td>3.0</td>\n      <td>3.0</td>\n      <td>3.0</td>\n      <td>3.0</td>\n      <td>0.003733</td>\n      <td>0.005700</td>\n      <td>0.021933</td>\n      <td>0.030407</td>\n      <td>0.019008</td>\n      <td>0.039281</td>\n      <td>5</td>\n    </tr>\n  </tbody>\n</table>\n</div>",
            "text/plain": "          選挙区数  自公候補者数  野党1候補者数  野党2候補者数  mean-median_自公  mean-median_野党1  \\\n都道府県                                                                        \nHokkaido  12.0    12.0     11.0      3.0       -0.023242         0.077736   \nAomori     3.0     3.0      3.0      3.0        0.029700        -0.003100   \nIwate      3.0     3.0      1.0      2.0       -0.020333         0.000000   \nMiyagi     6.0     6.0      4.0      2.0       -0.017983        -0.053025   \nAkita      3.0     3.0      3.0      3.0        0.003733         0.005700   \n\n          mean_median_野党2   標準偏差_自公  標準偏差_野党1  標準偏差_野党2  県番号  \n都道府県                                                          \nHokkaido         0.043600  0.062567  0.156616  0.102248    1  \nAomori          -0.019767  0.043353  0.011118  0.038055    2  \nIwate            0.000000  0.092248  0.000000  0.046850    3  \nMiyagi           0.000000  0.154553  0.097110  0.005250    4  \nAkita            0.021933  0.030407  0.019008  0.039281    5  "
          },
          "metadata": {}
        }
      ]
    },
    {
      "metadata": {
        "trusted": true
      },
      "cell_type": "code",
      "source": "!pip install xlwt\n!pip install openpyxl",
      "execution_count": 19,
      "outputs": [
        {
          "output_type": "stream",
          "text": "^C\nTraceback (most recent call last):\n  File \"/home/nbuser/anaconda3_501/bin/pip\", line 7, in <module>\n    from pip._internal.main import main\n  File \"/home/nbuser/anaconda3_501/lib/python3.6/site-packages/pip/_internal/main.py\", line 13, in <module>\n    from pip._internal.cli.autocompletion import autocomplete\n  File \"/home/nbuser/anaconda3_501/lib/python3.6/site-packages/pip/_internal/cli/autocompletion.py\", line 11, in <module>\n    from pip._internal.cli.main_parser import create_main_parser\n  File \"/home/nbuser/anaconda3_501/lib/python3.6/site-packages/pip/_internal/cli/main_parser.py\", line 7, in <module>\n    from pip._internal.cli import cmdoptions\n  File \"/home/nbuser/anaconda3_501/lib/python3.6/site-packages/pip/_internal/cli/cmdoptions.py\", line 28, in <module>\n    from pip._internal.models.target_python import TargetPython\n  File \"/home/nbuser/anaconda3_501/lib/python3.6/site-packages/pip/_internal/models/target_python.py\", line 4, in <module>\n    from pip._internal.utils.misc import normalize_version_info\n  File \"/home/nbuser/anaconda3_501/lib/python3.6/site-packages/pip/_internal/utils/misc.py\", line 19, in <module>\n    from pip._vendor import pkg_resources\n  File \"/home/nbuser/anaconda3_501/lib/python3.6/site-packages/pip/_vendor/pkg_resources/__init__.py\", line 3250, in <module>\n    @_call_aside\n  File \"/home/nbuser/anaconda3_501/lib/python3.6/site-packages/pip/_vendor/pkg_resources/__init__.py\", line 3234, in _call_aside\n    f(*args, **kwargs)\n  File \"/home/nbuser/anaconda3_501/lib/python3.6/site-packages/pip/_vendor/pkg_resources/__init__.py\", line 3278, in _initialize_master_working_set\n    for dist in working_set\n  File \"/home/nbuser/anaconda3_501/lib/python3.6/site-packages/pip/_vendor/pkg_resources/__init__.py\", line 3278, in <genexpr>\n    for dist in working_set\n  File \"/home/nbuser/anaconda3_501/lib/python3.6/site-packages/pip/_vendor/pkg_resources/__init__.py\", line 2783, in activate\n    for pkg in self._get_metadata('namespace_packages.txt'):\n  File \"/home/nbuser/anaconda3_501/lib/python3.6/site-packages/pip/_vendor/pkg_resources/__init__.py\", line 2766, in _get_metadata\n    if self.has_metadata(name):\n  File \"/home/nbuser/anaconda3_501/lib/python3.6/site-packages/pip/_vendor/pkg_resources/__init__.py\", line 1414, in has_metadata\n    return self._has(path)\n  File \"/home/nbuser/anaconda3_501/lib/python3.6/site-packages/pip/_vendor/pkg_resources/__init__.py\", line 1604, in _has\n    return os.path.exists(path)\nKeyboardInterrupt\nRequirement already satisfied: openpyxl in /home/nbuser/anaconda3_501/lib/python3.6/site-packages (2.5.8)\nRequirement already satisfied: jdcal in /home/nbuser/anaconda3_501/lib/python3.6/site-packages (from openpyxl) (1.4)\nRequirement already satisfied: et-xmlfile in /home/nbuser/anaconda3_501/lib/python3.6/site-packages (from openpyxl) (1.0.1)\n^C\n\u001b[31mERROR: Operation cancelled by user\u001b[0m\n",
          "name": "stdout"
        }
      ]
    },
    {
      "metadata": {
        "trusted": true
      },
      "cell_type": "code",
      "source": "table_mm.to_excel(\"mean-median.xlsx\")",
      "execution_count": 20,
      "outputs": []
    },
    {
      "metadata": {
        "trusted": true
      },
      "cell_type": "code",
      "source": "#significance levelを求めたい\n\nsignificance_level = (table_mm.iat[0,4] * (table_mm.iat[0,0]**0.5)) / (0.756 * table_mm.iat[0,7])",
      "execution_count": 27,
      "outputs": []
    },
    {
      "metadata": {
        "trusted": true
      },
      "cell_type": "code",
      "source": "significance_level",
      "execution_count": 28,
      "outputs": [
        {
          "output_type": "execute_result",
          "execution_count": 28,
          "data": {
            "text/plain": "-1.7021122495091263"
          },
          "metadata": {}
        }
      ]
    },
    {
      "metadata": {
        "trusted": true,
        "scrolled": true
      },
      "cell_type": "code",
      "source": "#標準偏差が0なら弾く\ntable_mm.fillna(0)",
      "execution_count": 29,
      "outputs": [
        {
          "output_type": "execute_result",
          "execution_count": 29,
          "data": {
            "text/html": "<div>\n<style scoped>\n    .dataframe tbody tr th:only-of-type {\n        vertical-align: middle;\n    }\n\n    .dataframe tbody tr th {\n        vertical-align: top;\n    }\n\n    .dataframe thead th {\n        text-align: right;\n    }\n</style>\n<table border=\"1\" class=\"dataframe\">\n  <thead>\n    <tr style=\"text-align: right;\">\n      <th></th>\n      <th>選挙区数</th>\n      <th>自公候補者数</th>\n      <th>野党1候補者数</th>\n      <th>野党2候補者数</th>\n      <th>mean-median_自公</th>\n      <th>mean-median_野党1</th>\n      <th>mean_median_野党2</th>\n      <th>標準偏差_自公</th>\n      <th>標準偏差_野党1</th>\n      <th>標準偏差_野党2</th>\n      <th>県番号</th>\n    </tr>\n    <tr>\n      <th>都道府県</th>\n      <th></th>\n      <th></th>\n      <th></th>\n      <th></th>\n      <th></th>\n      <th></th>\n      <th></th>\n      <th></th>\n      <th></th>\n      <th></th>\n      <th></th>\n    </tr>\n  </thead>\n  <tbody>\n    <tr>\n      <th>Hokkaido</th>\n      <td>12.0</td>\n      <td>12.0</td>\n      <td>11.0</td>\n      <td>3.0</td>\n      <td>-0.023242</td>\n      <td>0.077736</td>\n      <td>0.043600</td>\n      <td>0.062567</td>\n      <td>0.156616</td>\n      <td>0.102248</td>\n      <td>1</td>\n    </tr>\n    <tr>\n      <th>Aomori</th>\n      <td>3.0</td>\n      <td>3.0</td>\n      <td>3.0</td>\n      <td>3.0</td>\n      <td>0.029700</td>\n      <td>-0.003100</td>\n      <td>-0.019767</td>\n      <td>0.043353</td>\n      <td>0.011118</td>\n      <td>0.038055</td>\n      <td>2</td>\n    </tr>\n    <tr>\n      <th>Iwate</th>\n      <td>3.0</td>\n      <td>3.0</td>\n      <td>1.0</td>\n      <td>2.0</td>\n      <td>-0.020333</td>\n      <td>0.000000</td>\n      <td>0.000000</td>\n      <td>0.092248</td>\n      <td>0.000000</td>\n      <td>0.046850</td>\n      <td>3</td>\n    </tr>\n    <tr>\n      <th>Miyagi</th>\n      <td>6.0</td>\n      <td>6.0</td>\n      <td>4.0</td>\n      <td>2.0</td>\n      <td>-0.017983</td>\n      <td>-0.053025</td>\n      <td>0.000000</td>\n      <td>0.154553</td>\n      <td>0.097110</td>\n      <td>0.005250</td>\n      <td>4</td>\n    </tr>\n    <tr>\n      <th>Akita</th>\n      <td>3.0</td>\n      <td>3.0</td>\n      <td>3.0</td>\n      <td>3.0</td>\n      <td>0.003733</td>\n      <td>0.005700</td>\n      <td>0.021933</td>\n      <td>0.030407</td>\n      <td>0.019008</td>\n      <td>0.039281</td>\n      <td>5</td>\n    </tr>\n    <tr>\n      <th>Yamagata</th>\n      <td>3.0</td>\n      <td>3.0</td>\n      <td>3.0</td>\n      <td>3.0</td>\n      <td>-0.015167</td>\n      <td>-0.007633</td>\n      <td>0.015000</td>\n      <td>0.025363</td>\n      <td>0.014551</td>\n      <td>0.038007</td>\n      <td>6</td>\n    </tr>\n    <tr>\n      <th>Fukushima</th>\n      <td>5.0</td>\n      <td>5.0</td>\n      <td>2.0</td>\n      <td>2.0</td>\n      <td>0.003240</td>\n      <td>0.000000</td>\n      <td>0.000000</td>\n      <td>0.061556</td>\n      <td>0.015500</td>\n      <td>0.059700</td>\n      <td>7</td>\n    </tr>\n    <tr>\n      <th>Ibaraki</th>\n      <td>7.0</td>\n      <td>6.0</td>\n      <td>7.0</td>\n      <td>6.0</td>\n      <td>-0.020467</td>\n      <td>-0.001771</td>\n      <td>0.017200</td>\n      <td>0.083457</td>\n      <td>0.029216</td>\n      <td>0.087063</td>\n      <td>8</td>\n    </tr>\n    <tr>\n      <th>Tochigi</th>\n      <td>5.0</td>\n      <td>5.0</td>\n      <td>5.0</td>\n      <td>4.0</td>\n      <td>-0.000840</td>\n      <td>-0.091060</td>\n      <td>0.000775</td>\n      <td>0.052092</td>\n      <td>0.180609</td>\n      <td>0.048902</td>\n      <td>9</td>\n    </tr>\n    <tr>\n      <th>Gunma</th>\n      <td>5.0</td>\n      <td>5.0</td>\n      <td>4.0</td>\n      <td>4.0</td>\n      <td>-0.012520</td>\n      <td>-0.072300</td>\n      <td>-0.003925</td>\n      <td>0.054701</td>\n      <td>0.131802</td>\n      <td>0.074089</td>\n      <td>10</td>\n    </tr>\n    <tr>\n      <th>Saitama</th>\n      <td>15.0</td>\n      <td>15.0</td>\n      <td>15.0</td>\n      <td>10.0</td>\n      <td>0.019920</td>\n      <td>-0.032093</td>\n      <td>0.011700</td>\n      <td>0.069253</td>\n      <td>0.113355</td>\n      <td>0.121170</td>\n      <td>11</td>\n    </tr>\n    <tr>\n      <th>Chiba</th>\n      <td>13.0</td>\n      <td>13.0</td>\n      <td>9.0</td>\n      <td>10.0</td>\n      <td>-0.002500</td>\n      <td>-0.045011</td>\n      <td>-0.035020</td>\n      <td>0.085358</td>\n      <td>0.106046</td>\n      <td>0.109757</td>\n      <td>12</td>\n    </tr>\n    <tr>\n      <th>Tokyo</th>\n      <td>25.0</td>\n      <td>25.0</td>\n      <td>16.0</td>\n      <td>23.0</td>\n      <td>-0.001296</td>\n      <td>0.001506</td>\n      <td>-0.031183</td>\n      <td>0.055715</td>\n      <td>0.106223</td>\n      <td>0.078321</td>\n      <td>13</td>\n    </tr>\n    <tr>\n      <th>Kanagawa</th>\n      <td>18.0</td>\n      <td>18.0</td>\n      <td>17.0</td>\n      <td>17.0</td>\n      <td>-0.004444</td>\n      <td>-0.044761</td>\n      <td>-0.006194</td>\n      <td>0.109197</td>\n      <td>0.117672</td>\n      <td>0.111557</td>\n      <td>14</td>\n    </tr>\n    <tr>\n      <th>Niigata</th>\n      <td>6.0</td>\n      <td>6.0</td>\n      <td>6.0</td>\n      <td>0.0</td>\n      <td>0.004633</td>\n      <td>0.062500</td>\n      <td>0.000000</td>\n      <td>0.032856</td>\n      <td>0.172350</td>\n      <td>0.000000</td>\n      <td>15</td>\n    </tr>\n    <tr>\n      <th>Toyama</th>\n      <td>3.0</td>\n      <td>3.0</td>\n      <td>3.0</td>\n      <td>2.0</td>\n      <td>-0.019467</td>\n      <td>-0.040900</td>\n      <td>0.000000</td>\n      <td>0.063801</td>\n      <td>0.077492</td>\n      <td>0.010250</td>\n      <td>16</td>\n    </tr>\n    <tr>\n      <th>Ishikawa</th>\n      <td>3.0</td>\n      <td>3.0</td>\n      <td>3.0</td>\n      <td>3.0</td>\n      <td>0.022600</td>\n      <td>-0.004167</td>\n      <td>-0.045233</td>\n      <td>0.056522</td>\n      <td>0.021958</td>\n      <td>0.076974</td>\n      <td>17</td>\n    </tr>\n    <tr>\n      <th>Fukui</th>\n      <td>2.0</td>\n      <td>2.0</td>\n      <td>2.0</td>\n      <td>2.0</td>\n      <td>0.000000</td>\n      <td>0.000000</td>\n      <td>0.000000</td>\n      <td>0.015800</td>\n      <td>0.013100</td>\n      <td>0.028900</td>\n      <td>18</td>\n    </tr>\n    <tr>\n      <th>Yamanashi</th>\n      <td>2.0</td>\n      <td>2.0</td>\n      <td>1.0</td>\n      <td>1.0</td>\n      <td>0.000000</td>\n      <td>0.000000</td>\n      <td>0.000000</td>\n      <td>0.018750</td>\n      <td>0.000000</td>\n      <td>0.000000</td>\n      <td>19</td>\n    </tr>\n    <tr>\n      <th>Nagano</th>\n      <td>5.0</td>\n      <td>5.0</td>\n      <td>5.0</td>\n      <td>4.0</td>\n      <td>-0.033820</td>\n      <td>-0.016760</td>\n      <td>-0.028950</td>\n      <td>0.079067</td>\n      <td>0.138257</td>\n      <td>0.157678</td>\n      <td>20</td>\n    </tr>\n    <tr>\n      <th>Gifu</th>\n      <td>5.0</td>\n      <td>5.0</td>\n      <td>4.0</td>\n      <td>3.0</td>\n      <td>-0.031260</td>\n      <td>-0.021650</td>\n      <td>-0.016000</td>\n      <td>0.091596</td>\n      <td>0.060842</td>\n      <td>0.049166</td>\n      <td>21</td>\n    </tr>\n    <tr>\n      <th>Shizuoka</th>\n      <td>8.0</td>\n      <td>8.0</td>\n      <td>6.0</td>\n      <td>8.0</td>\n      <td>-0.015763</td>\n      <td>-0.011517</td>\n      <td>-0.001675</td>\n      <td>0.084054</td>\n      <td>0.036013</td>\n      <td>0.124877</td>\n      <td>22</td>\n    </tr>\n    <tr>\n      <th>Aichi</th>\n      <td>15.0</td>\n      <td>15.0</td>\n      <td>13.0</td>\n      <td>11.0</td>\n      <td>0.008647</td>\n      <td>-0.060177</td>\n      <td>0.010700</td>\n      <td>0.058861</td>\n      <td>0.139544</td>\n      <td>0.117923</td>\n      <td>23</td>\n    </tr>\n    <tr>\n      <th>Mie</th>\n      <td>4.0</td>\n      <td>4.0</td>\n      <td>2.0</td>\n      <td>1.0</td>\n      <td>0.045450</td>\n      <td>0.000000</td>\n      <td>0.000000</td>\n      <td>0.107159</td>\n      <td>0.016750</td>\n      <td>0.000000</td>\n      <td>24</td>\n    </tr>\n    <tr>\n      <th>Shiga</th>\n      <td>4.0</td>\n      <td>4.0</td>\n      <td>3.0</td>\n      <td>3.0</td>\n      <td>-0.012000</td>\n      <td>0.001900</td>\n      <td>0.010467</td>\n      <td>0.031017</td>\n      <td>0.024899</td>\n      <td>0.027313</td>\n      <td>25</td>\n    </tr>\n    <tr>\n      <th>Kyoto</th>\n      <td>6.0</td>\n      <td>6.0</td>\n      <td>6.0</td>\n      <td>4.0</td>\n      <td>0.026433</td>\n      <td>-0.022450</td>\n      <td>-0.001775</td>\n      <td>0.059275</td>\n      <td>0.063725</td>\n      <td>0.116134</td>\n      <td>26</td>\n    </tr>\n    <tr>\n      <th>Osaka</th>\n      <td>19.0</td>\n      <td>19.0</td>\n      <td>14.0</td>\n      <td>15.0</td>\n      <td>-0.022189</td>\n      <td>-0.049029</td>\n      <td>0.011960</td>\n      <td>0.070410</td>\n      <td>0.109153</td>\n      <td>0.058679</td>\n      <td>27</td>\n    </tr>\n    <tr>\n      <th>Hyogo</th>\n      <td>12.0</td>\n      <td>12.0</td>\n      <td>12.0</td>\n      <td>6.0</td>\n      <td>0.022025</td>\n      <td>-0.033600</td>\n      <td>0.002300</td>\n      <td>0.094439</td>\n      <td>0.080106</td>\n      <td>0.048104</td>\n      <td>28</td>\n    </tr>\n    <tr>\n      <th>Nara</th>\n      <td>3.0</td>\n      <td>3.0</td>\n      <td>3.0</td>\n      <td>2.0</td>\n      <td>0.059100</td>\n      <td>-0.012833</td>\n      <td>0.000000</td>\n      <td>0.094678</td>\n      <td>0.021706</td>\n      <td>0.013950</td>\n      <td>29</td>\n    </tr>\n    <tr>\n      <th>Wakayama</th>\n      <td>3.0</td>\n      <td>3.0</td>\n      <td>3.0</td>\n      <td>1.0</td>\n      <td>0.013633</td>\n      <td>-0.038633</td>\n      <td>0.000000</td>\n      <td>0.136247</td>\n      <td>0.074851</td>\n      <td>0.000000</td>\n      <td>30</td>\n    </tr>\n    <tr>\n      <th>Tottori</th>\n      <td>2.0</td>\n      <td>2.0</td>\n      <td>2.0</td>\n      <td>1.0</td>\n      <td>0.000000</td>\n      <td>0.000000</td>\n      <td>0.000000</td>\n      <td>0.151200</td>\n      <td>0.044200</td>\n      <td>0.000000</td>\n      <td>31</td>\n    </tr>\n    <tr>\n      <th>Shimane</th>\n      <td>2.0</td>\n      <td>2.0</td>\n      <td>1.0</td>\n      <td>0.0</td>\n      <td>0.000000</td>\n      <td>0.000000</td>\n      <td>0.000000</td>\n      <td>0.042100</td>\n      <td>0.000000</td>\n      <td>0.000000</td>\n      <td>32</td>\n    </tr>\n    <tr>\n      <th>Okayama</th>\n      <td>5.0</td>\n      <td>5.0</td>\n      <td>5.0</td>\n      <td>5.0</td>\n      <td>-0.012520</td>\n      <td>-0.045860</td>\n      <td>-0.059400</td>\n      <td>0.103654</td>\n      <td>0.100485</td>\n      <td>0.118246</td>\n      <td>33</td>\n    </tr>\n    <tr>\n      <th>Hiroshima</th>\n      <td>7.0</td>\n      <td>7.0</td>\n      <td>7.0</td>\n      <td>6.0</td>\n      <td>-0.071486</td>\n      <td>-0.020700</td>\n      <td>-0.030875</td>\n      <td>0.127695</td>\n      <td>0.050263</td>\n      <td>0.137474</td>\n      <td>34</td>\n    </tr>\n    <tr>\n      <th>Yamaguchi</th>\n      <td>4.0</td>\n      <td>4.0</td>\n      <td>4.0</td>\n      <td>2.0</td>\n      <td>-0.001575</td>\n      <td>-0.009750</td>\n      <td>0.000000</td>\n      <td>0.019569</td>\n      <td>0.095213</td>\n      <td>0.030600</td>\n      <td>35</td>\n    </tr>\n    <tr>\n      <th>Tokushima</th>\n      <td>2.0</td>\n      <td>2.0</td>\n      <td>2.0</td>\n      <td>1.0</td>\n      <td>0.000000</td>\n      <td>0.000000</td>\n      <td>0.000000</td>\n      <td>0.097350</td>\n      <td>0.067300</td>\n      <td>0.000000</td>\n      <td>36</td>\n    </tr>\n    <tr>\n      <th>Kagawa</th>\n      <td>3.0</td>\n      <td>3.0</td>\n      <td>2.0</td>\n      <td>2.0</td>\n      <td>-0.027100</td>\n      <td>0.000000</td>\n      <td>0.000000</td>\n      <td>0.118684</td>\n      <td>0.134000</td>\n      <td>0.030850</td>\n      <td>37</td>\n    </tr>\n    <tr>\n      <th>Ehime</th>\n      <td>4.0</td>\n      <td>4.0</td>\n      <td>4.0</td>\n      <td>3.0</td>\n      <td>-0.004675</td>\n      <td>0.000275</td>\n      <td>-0.002867</td>\n      <td>0.089049</td>\n      <td>0.021729</td>\n      <td>0.116858</td>\n      <td>38</td>\n    </tr>\n    <tr>\n      <th>Kochi</th>\n      <td>2.0</td>\n      <td>2.0</td>\n      <td>1.0</td>\n      <td>1.0</td>\n      <td>0.000000</td>\n      <td>0.000000</td>\n      <td>0.000000</td>\n      <td>0.050350</td>\n      <td>0.000000</td>\n      <td>0.000000</td>\n      <td>39</td>\n    </tr>\n    <tr>\n      <th>Fukuoka</th>\n      <td>11.0</td>\n      <td>11.0</td>\n      <td>10.0</td>\n      <td>8.0</td>\n      <td>0.006118</td>\n      <td>-0.019280</td>\n      <td>0.013125</td>\n      <td>0.082822</td>\n      <td>0.095960</td>\n      <td>0.082493</td>\n      <td>40</td>\n    </tr>\n    <tr>\n      <th>Saga</th>\n      <td>2.0</td>\n      <td>2.0</td>\n      <td>1.0</td>\n      <td>1.0</td>\n      <td>0.000000</td>\n      <td>0.000000</td>\n      <td>0.000000</td>\n      <td>0.024350</td>\n      <td>0.000000</td>\n      <td>0.000000</td>\n      <td>41</td>\n    </tr>\n    <tr>\n      <th>Nagasaki</th>\n      <td>4.0</td>\n      <td>4.0</td>\n      <td>4.0</td>\n      <td>3.0</td>\n      <td>0.013825</td>\n      <td>0.003350</td>\n      <td>0.006000</td>\n      <td>0.065343</td>\n      <td>0.007304</td>\n      <td>0.060651</td>\n      <td>42</td>\n    </tr>\n    <tr>\n      <th>Kumamoto</th>\n      <td>4.0</td>\n      <td>4.0</td>\n      <td>3.0</td>\n      <td>1.0</td>\n      <td>-0.005425</td>\n      <td>0.003900</td>\n      <td>0.000000</td>\n      <td>0.095414</td>\n      <td>0.093325</td>\n      <td>0.000000</td>\n      <td>43</td>\n    </tr>\n    <tr>\n      <th>Oita</th>\n      <td>3.0</td>\n      <td>3.0</td>\n      <td>3.0</td>\n      <td>1.0</td>\n      <td>0.019933</td>\n      <td>0.097800</td>\n      <td>0.000000</td>\n      <td>0.034674</td>\n      <td>0.166427</td>\n      <td>0.000000</td>\n      <td>44</td>\n    </tr>\n    <tr>\n      <th>Miyazaki</th>\n      <td>3.0</td>\n      <td>3.0</td>\n      <td>3.0</td>\n      <td>2.0</td>\n      <td>0.046300</td>\n      <td>-0.028900</td>\n      <td>0.000000</td>\n      <td>0.067753</td>\n      <td>0.048337</td>\n      <td>0.065900</td>\n      <td>45</td>\n    </tr>\n    <tr>\n      <th>Kagoshima</th>\n      <td>4.0</td>\n      <td>4.0</td>\n      <td>4.0</td>\n      <td>3.0</td>\n      <td>-0.024725</td>\n      <td>-0.023150</td>\n      <td>-0.045267</td>\n      <td>0.108951</td>\n      <td>0.150359</td>\n      <td>0.125482</td>\n      <td>46</td>\n    </tr>\n    <tr>\n      <th>Okinawa</th>\n      <td>4.0</td>\n      <td>4.0</td>\n      <td>2.0</td>\n      <td>1.0</td>\n      <td>-0.013225</td>\n      <td>0.000000</td>\n      <td>0.000000</td>\n      <td>0.054757</td>\n      <td>0.094950</td>\n      <td>0.000000</td>\n      <td>47</td>\n    </tr>\n  </tbody>\n</table>\n</div>",
            "text/plain": "           選挙区数  自公候補者数  野党1候補者数  野党2候補者数  mean-median_自公  mean-median_野党1  \\\n都道府県                                                                         \nHokkaido   12.0    12.0     11.0      3.0       -0.023242         0.077736   \nAomori      3.0     3.0      3.0      3.0        0.029700        -0.003100   \nIwate       3.0     3.0      1.0      2.0       -0.020333         0.000000   \nMiyagi      6.0     6.0      4.0      2.0       -0.017983        -0.053025   \nAkita       3.0     3.0      3.0      3.0        0.003733         0.005700   \nYamagata    3.0     3.0      3.0      3.0       -0.015167        -0.007633   \nFukushima   5.0     5.0      2.0      2.0        0.003240         0.000000   \nIbaraki     7.0     6.0      7.0      6.0       -0.020467        -0.001771   \nTochigi     5.0     5.0      5.0      4.0       -0.000840        -0.091060   \nGunma       5.0     5.0      4.0      4.0       -0.012520        -0.072300   \nSaitama    15.0    15.0     15.0     10.0        0.019920        -0.032093   \nChiba      13.0    13.0      9.0     10.0       -0.002500        -0.045011   \nTokyo      25.0    25.0     16.0     23.0       -0.001296         0.001506   \nKanagawa   18.0    18.0     17.0     17.0       -0.004444        -0.044761   \nNiigata     6.0     6.0      6.0      0.0        0.004633         0.062500   \nToyama      3.0     3.0      3.0      2.0       -0.019467        -0.040900   \nIshikawa    3.0     3.0      3.0      3.0        0.022600        -0.004167   \nFukui       2.0     2.0      2.0      2.0        0.000000         0.000000   \nYamanashi   2.0     2.0      1.0      1.0        0.000000         0.000000   \nNagano      5.0     5.0      5.0      4.0       -0.033820        -0.016760   \nGifu        5.0     5.0      4.0      3.0       -0.031260        -0.021650   \nShizuoka    8.0     8.0      6.0      8.0       -0.015763        -0.011517   \nAichi      15.0    15.0     13.0     11.0        0.008647        -0.060177   \nMie         4.0     4.0      2.0      1.0        0.045450         0.000000   \nShiga       4.0     4.0      3.0      3.0       -0.012000         0.001900   \nKyoto       6.0     6.0      6.0      4.0        0.026433        -0.022450   \nOsaka      19.0    19.0     14.0     15.0       -0.022189        -0.049029   \nHyogo      12.0    12.0     12.0      6.0        0.022025        -0.033600   \nNara        3.0     3.0      3.0      2.0        0.059100        -0.012833   \nWakayama    3.0     3.0      3.0      1.0        0.013633        -0.038633   \nTottori     2.0     2.0      2.0      1.0        0.000000         0.000000   \nShimane     2.0     2.0      1.0      0.0        0.000000         0.000000   \nOkayama     5.0     5.0      5.0      5.0       -0.012520        -0.045860   \nHiroshima   7.0     7.0      7.0      6.0       -0.071486        -0.020700   \nYamaguchi   4.0     4.0      4.0      2.0       -0.001575        -0.009750   \nTokushima   2.0     2.0      2.0      1.0        0.000000         0.000000   \nKagawa      3.0     3.0      2.0      2.0       -0.027100         0.000000   \nEhime       4.0     4.0      4.0      3.0       -0.004675         0.000275   \nKochi       2.0     2.0      1.0      1.0        0.000000         0.000000   \nFukuoka    11.0    11.0     10.0      8.0        0.006118        -0.019280   \nSaga        2.0     2.0      1.0      1.0        0.000000         0.000000   \nNagasaki    4.0     4.0      4.0      3.0        0.013825         0.003350   \nKumamoto    4.0     4.0      3.0      1.0       -0.005425         0.003900   \nOita        3.0     3.0      3.0      1.0        0.019933         0.097800   \nMiyazaki    3.0     3.0      3.0      2.0        0.046300        -0.028900   \nKagoshima   4.0     4.0      4.0      3.0       -0.024725        -0.023150   \nOkinawa     4.0     4.0      2.0      1.0       -0.013225         0.000000   \n\n           mean_median_野党2   標準偏差_自公  標準偏差_野党1  標準偏差_野党2  県番号  \n都道府県                                                           \nHokkaido          0.043600  0.062567  0.156616  0.102248    1  \nAomori           -0.019767  0.043353  0.011118  0.038055    2  \nIwate             0.000000  0.092248  0.000000  0.046850    3  \nMiyagi            0.000000  0.154553  0.097110  0.005250    4  \nAkita             0.021933  0.030407  0.019008  0.039281    5  \nYamagata          0.015000  0.025363  0.014551  0.038007    6  \nFukushima         0.000000  0.061556  0.015500  0.059700    7  \nIbaraki           0.017200  0.083457  0.029216  0.087063    8  \nTochigi           0.000775  0.052092  0.180609  0.048902    9  \nGunma            -0.003925  0.054701  0.131802  0.074089   10  \nSaitama           0.011700  0.069253  0.113355  0.121170   11  \nChiba            -0.035020  0.085358  0.106046  0.109757   12  \nTokyo            -0.031183  0.055715  0.106223  0.078321   13  \nKanagawa         -0.006194  0.109197  0.117672  0.111557   14  \nNiigata           0.000000  0.032856  0.172350  0.000000   15  \nToyama            0.000000  0.063801  0.077492  0.010250   16  \nIshikawa         -0.045233  0.056522  0.021958  0.076974   17  \nFukui             0.000000  0.015800  0.013100  0.028900   18  \nYamanashi         0.000000  0.018750  0.000000  0.000000   19  \nNagano           -0.028950  0.079067  0.138257  0.157678   20  \nGifu             -0.016000  0.091596  0.060842  0.049166   21  \nShizuoka         -0.001675  0.084054  0.036013  0.124877   22  \nAichi             0.010700  0.058861  0.139544  0.117923   23  \nMie               0.000000  0.107159  0.016750  0.000000   24  \nShiga             0.010467  0.031017  0.024899  0.027313   25  \nKyoto            -0.001775  0.059275  0.063725  0.116134   26  \nOsaka             0.011960  0.070410  0.109153  0.058679   27  \nHyogo             0.002300  0.094439  0.080106  0.048104   28  \nNara              0.000000  0.094678  0.021706  0.013950   29  \nWakayama          0.000000  0.136247  0.074851  0.000000   30  \nTottori           0.000000  0.151200  0.044200  0.000000   31  \nShimane           0.000000  0.042100  0.000000  0.000000   32  \nOkayama          -0.059400  0.103654  0.100485  0.118246   33  \nHiroshima        -0.030875  0.127695  0.050263  0.137474   34  \nYamaguchi         0.000000  0.019569  0.095213  0.030600   35  \nTokushima         0.000000  0.097350  0.067300  0.000000   36  \nKagawa            0.000000  0.118684  0.134000  0.030850   37  \nEhime            -0.002867  0.089049  0.021729  0.116858   38  \nKochi             0.000000  0.050350  0.000000  0.000000   39  \nFukuoka           0.013125  0.082822  0.095960  0.082493   40  \nSaga              0.000000  0.024350  0.000000  0.000000   41  \nNagasaki          0.006000  0.065343  0.007304  0.060651   42  \nKumamoto          0.000000  0.095414  0.093325  0.000000   43  \nOita              0.000000  0.034674  0.166427  0.000000   44  \nMiyazaki          0.000000  0.067753  0.048337  0.065900   45  \nKagoshima        -0.045267  0.108951  0.150359  0.125482   46  \nOkinawa           0.000000  0.054757  0.094950  0.000000   47  "
          },
          "metadata": {}
        }
      ]
    },
    {
      "metadata": {
        "trusted": true
      },
      "cell_type": "code",
      "source": "significance_level = np.random.rand(len(table_mm.index),3)\nsignificance_level = pd.DataFrame(significance_level) \nsignificance_level.index = table_mm.index\nsignificance_level.columns = [\"sgfl自公\",\"sgfl自公\",\"sgfl野党1\"]\nsignificance_level = significance_level[significance_level[:] ==0]\n\n#significance_level = (table_mm.iat[0,4] * (table_mm.iat[0,0]**0.5)) / (0.756 * table_mm.iat[0,7])",
      "execution_count": 30,
      "outputs": []
    },
    {
      "metadata": {
        "trusted": true
      },
      "cell_type": "code",
      "source": "\nwith pd.ExcelWriter('2017significance_level.xlsx',engine=\"openpyxl\",mode =\"a\") as level:\n    significance_level.to_excel(level,sheet_name = \"2017significance_level\")",
      "execution_count": 34,
      "outputs": []
    },
    {
      "metadata": {
        "trusted": true
      },
      "cell_type": "code",
      "source": "zhili_list = [\"標準偏差_自公\",\"標準偏差_野党1\",\"標準偏差_野党2\"]\nfor nankai, zhili in enumerate(zhili_list):\n    seito_bango = table_mm[table_mm[zhili].isin([0]) == False].loc[:,\"県番号\"]\n    for kaisu in seito_bango:\n        sgfl_zhili = (table_mm.iat[kaisu-1,4+nankai] * (table_mm.iat[kaisu-1,0]**0.5) / (0.756 * table_mm.iat[kaisu-1,7+nankai]))\n        significance_level.iloc[kaisu-1,[nankai]] = sgfl_zhili",
      "execution_count": 31,
      "outputs": []
    },
    {
      "metadata": {
        "trusted": true
      },
      "cell_type": "code",
      "source": "zero = significance_level[(significance_level.iloc[:,:] >= 1.75) | (significance_level.iloc[:,:] <= -1.75)]\nzero = zero.dropna(how = \"all\")\nzero",
      "execution_count": 32,
      "outputs": [
        {
          "output_type": "execute_result",
          "execution_count": 32,
          "data": {
            "text/html": "<div>\n<style scoped>\n    .dataframe tbody tr th:only-of-type {\n        vertical-align: middle;\n    }\n\n    .dataframe tbody tr th {\n        vertical-align: top;\n    }\n\n    .dataframe thead th {\n        text-align: right;\n    }\n</style>\n<table border=\"1\" class=\"dataframe\">\n  <thead>\n    <tr style=\"text-align: right;\">\n      <th></th>\n      <th>sgfl自公</th>\n      <th>sgfl自公</th>\n      <th>sgfl野党1</th>\n    </tr>\n    <tr>\n      <th>都道府県</th>\n      <th></th>\n      <th></th>\n      <th></th>\n    </tr>\n  </thead>\n  <tbody>\n    <tr>\n      <th>Hokkaido</th>\n      <td>NaN</td>\n      <td>2.274352</td>\n      <td>1.953886</td>\n    </tr>\n    <tr>\n      <th>Miyagi</th>\n      <td>NaN</td>\n      <td>-1.769178</td>\n      <td>NaN</td>\n    </tr>\n    <tr>\n      <th>Chiba</th>\n      <td>NaN</td>\n      <td>-2.024295</td>\n      <td>NaN</td>\n    </tr>\n    <tr>\n      <th>Tokyo</th>\n      <td>NaN</td>\n      <td>NaN</td>\n      <td>-2.633202</td>\n    </tr>\n    <tr>\n      <th>Kanagawa</th>\n      <td>NaN</td>\n      <td>-2.134723</td>\n      <td>NaN</td>\n    </tr>\n    <tr>\n      <th>Aichi</th>\n      <td>NaN</td>\n      <td>-2.209233</td>\n      <td>NaN</td>\n    </tr>\n    <tr>\n      <th>Osaka</th>\n      <td>-1.817064</td>\n      <td>-2.589807</td>\n      <td>NaN</td>\n    </tr>\n    <tr>\n      <th>Hyogo</th>\n      <td>NaN</td>\n      <td>-1.921943</td>\n      <td>NaN</td>\n    </tr>\n    <tr>\n      <th>Hiroshima</th>\n      <td>-1.959178</td>\n      <td>NaN</td>\n      <td>NaN</td>\n    </tr>\n  </tbody>\n</table>\n</div>",
            "text/plain": "             sgfl自公    sgfl自公   sgfl野党1\n都道府県                                   \nHokkaido        NaN  2.274352  1.953886\nMiyagi          NaN -1.769178       NaN\nChiba           NaN -2.024295       NaN\nTokyo           NaN       NaN -2.633202\nKanagawa        NaN -2.134723       NaN\nAichi           NaN -2.209233       NaN\nOsaka     -1.817064 -2.589807       NaN\nHyogo           NaN -1.921943       NaN\nHiroshima -1.959178       NaN       NaN"
          },
          "metadata": {}
        }
      ]
    },
    {
      "metadata": {
        "trusted": true
      },
      "cell_type": "code",
      "source": "plus = significance_level[significance_level.iloc[:,[0,1,2]] >= 1.75]\nplus = plus.dropna(how = \"all\")",
      "execution_count": 25,
      "outputs": []
    },
    {
      "metadata": {
        "trusted": true
      },
      "cell_type": "code",
      "source": "minus = significance_level[significance_level.iloc[:,[0,1,2]] <= -1.75]\nminus = minus.dropna(how=\"all\")",
      "execution_count": 37,
      "outputs": []
    },
    {
      "metadata": {
        "trusted": true
      },
      "cell_type": "code",
      "source": "zero = pd.concat([minus,plus])\nzero",
      "execution_count": 38,
      "outputs": [
        {
          "output_type": "execute_result",
          "execution_count": 38,
          "data": {
            "text/html": "<div>\n<style scoped>\n    .dataframe tbody tr th:only-of-type {\n        vertical-align: middle;\n    }\n\n    .dataframe tbody tr th {\n        vertical-align: top;\n    }\n\n    .dataframe thead th {\n        text-align: right;\n    }\n</style>\n<table border=\"1\" class=\"dataframe\">\n  <thead>\n    <tr style=\"text-align: right;\">\n      <th></th>\n      <th>sgfl自公</th>\n      <th>sgfl自公</th>\n      <th>sgfl野党1</th>\n    </tr>\n    <tr>\n      <th>都道府県</th>\n      <th></th>\n      <th></th>\n      <th></th>\n    </tr>\n  </thead>\n  <tbody>\n    <tr>\n      <th>Hokkaido</th>\n      <td>NaN</td>\n      <td>-2.274352</td>\n      <td>-1.953886</td>\n    </tr>\n    <tr>\n      <th>Miyagi</th>\n      <td>NaN</td>\n      <td>1.769178</td>\n      <td>NaN</td>\n    </tr>\n    <tr>\n      <th>Chiba</th>\n      <td>NaN</td>\n      <td>2.024295</td>\n      <td>NaN</td>\n    </tr>\n    <tr>\n      <th>Tokyo</th>\n      <td>NaN</td>\n      <td>NaN</td>\n      <td>2.633202</td>\n    </tr>\n    <tr>\n      <th>Kanagawa</th>\n      <td>NaN</td>\n      <td>2.134723</td>\n      <td>NaN</td>\n    </tr>\n    <tr>\n      <th>Aichi</th>\n      <td>NaN</td>\n      <td>2.209233</td>\n      <td>NaN</td>\n    </tr>\n    <tr>\n      <th>Osaka</th>\n      <td>1.817064</td>\n      <td>2.589807</td>\n      <td>NaN</td>\n    </tr>\n    <tr>\n      <th>Hyogo</th>\n      <td>NaN</td>\n      <td>1.921943</td>\n      <td>NaN</td>\n    </tr>\n    <tr>\n      <th>Hiroshima</th>\n      <td>1.959178</td>\n      <td>NaN</td>\n      <td>NaN</td>\n    </tr>\n  </tbody>\n</table>\n</div>",
            "text/plain": "             sgfl自公    sgfl自公   sgfl野党1\n都道府県                                   \nHokkaido        NaN -2.274352 -1.953886\nMiyagi          NaN  1.769178       NaN\nChiba           NaN  2.024295       NaN\nTokyo           NaN       NaN  2.633202\nKanagawa        NaN  2.134723       NaN\nAichi           NaN  2.209233       NaN\nOsaka      1.817064  2.589807       NaN\nHyogo           NaN  1.921943       NaN\nHiroshima  1.959178       NaN       NaN"
          },
          "metadata": {}
        }
      ]
    },
    {
      "metadata": {
        "trusted": true
      },
      "cell_type": "code",
      "source": "aiueo = table_mm.loc[zero.index]\naiueo.iloc[:,0:4]",
      "execution_count": 34,
      "outputs": [
        {
          "output_type": "execute_result",
          "execution_count": 34,
          "data": {
            "text/html": "<div>\n<style scoped>\n    .dataframe tbody tr th:only-of-type {\n        vertical-align: middle;\n    }\n\n    .dataframe tbody tr th {\n        vertical-align: top;\n    }\n\n    .dataframe thead th {\n        text-align: right;\n    }\n</style>\n<table border=\"1\" class=\"dataframe\">\n  <thead>\n    <tr style=\"text-align: right;\">\n      <th></th>\n      <th>選挙区数</th>\n      <th>自公候補者数</th>\n      <th>野党1候補者数</th>\n      <th>野党2候補者数</th>\n    </tr>\n    <tr>\n      <th>都道府県</th>\n      <th></th>\n      <th></th>\n      <th></th>\n      <th></th>\n    </tr>\n  </thead>\n  <tbody>\n    <tr>\n      <th>Hokkaido</th>\n      <td>12.0</td>\n      <td>12.0</td>\n      <td>11.0</td>\n      <td>3.0</td>\n    </tr>\n    <tr>\n      <th>Miyagi</th>\n      <td>6.0</td>\n      <td>6.0</td>\n      <td>4.0</td>\n      <td>2.0</td>\n    </tr>\n    <tr>\n      <th>Chiba</th>\n      <td>13.0</td>\n      <td>13.0</td>\n      <td>9.0</td>\n      <td>10.0</td>\n    </tr>\n    <tr>\n      <th>Tokyo</th>\n      <td>25.0</td>\n      <td>25.0</td>\n      <td>16.0</td>\n      <td>23.0</td>\n    </tr>\n    <tr>\n      <th>Kanagawa</th>\n      <td>18.0</td>\n      <td>18.0</td>\n      <td>17.0</td>\n      <td>17.0</td>\n    </tr>\n    <tr>\n      <th>Aichi</th>\n      <td>15.0</td>\n      <td>15.0</td>\n      <td>13.0</td>\n      <td>11.0</td>\n    </tr>\n    <tr>\n      <th>Osaka</th>\n      <td>19.0</td>\n      <td>19.0</td>\n      <td>14.0</td>\n      <td>15.0</td>\n    </tr>\n    <tr>\n      <th>Hyogo</th>\n      <td>12.0</td>\n      <td>12.0</td>\n      <td>12.0</td>\n      <td>6.0</td>\n    </tr>\n    <tr>\n      <th>Hiroshima</th>\n      <td>7.0</td>\n      <td>7.0</td>\n      <td>7.0</td>\n      <td>6.0</td>\n    </tr>\n  </tbody>\n</table>\n</div>",
            "text/plain": "           選挙区数  自公候補者数  野党1候補者数  野党2候補者数\n都道府県                                     \nHokkaido   12.0    12.0     11.0      3.0\nMiyagi      6.0     6.0      4.0      2.0\nChiba      13.0    13.0      9.0     10.0\nTokyo      25.0    25.0     16.0     23.0\nKanagawa   18.0    18.0     17.0     17.0\nAichi      15.0    15.0     13.0     11.0\nOsaka      19.0    19.0     14.0     15.0\nHyogo      12.0    12.0     12.0      6.0\nHiroshima   7.0     7.0      7.0      6.0"
          },
          "metadata": {}
        }
      ]
    },
    {
      "metadata": {
        "trusted": true
      },
      "cell_type": "code",
      "source": "",
      "execution_count": null,
      "outputs": []
    }
  ],
  "metadata": {
    "kernelspec": {
      "name": "python36",
      "display_name": "Python 3.6",
      "language": "python"
    },
    "language_info": {
      "mimetype": "text/x-python",
      "nbconvert_exporter": "python",
      "name": "python",
      "pygments_lexer": "ipython3",
      "version": "3.6.6",
      "file_extension": ".py",
      "codemirror_mode": {
        "version": 3,
        "name": "ipython"
      }
    }
  },
  "nbformat": 4,
  "nbformat_minor": 2
}
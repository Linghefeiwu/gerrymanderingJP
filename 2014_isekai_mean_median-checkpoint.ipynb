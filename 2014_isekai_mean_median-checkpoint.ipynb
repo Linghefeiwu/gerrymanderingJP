{
  "cells": [
    {
      "metadata": {
        "collapsed": true
      },
      "cell_type": "markdown",
      "source": "## 異世界のmean,medianの違いを調べるぞい"
    },
    {
      "metadata": {
        "trusted": true
      },
      "cell_type": "code",
      "source": "import pandas as pd \nimport numpy as np\nimport statistics\nimport math\n\npd.set_option('display.max_rows', 100)\npd.set_option('display.max_columns', 100)",
      "execution_count": 1,
      "outputs": []
    },
    {
      "metadata": {
        "trusted": true
      },
      "cell_type": "code",
      "source": "df = pd.read_excel(\"2014parallel_table.xlsx\")",
      "execution_count": 2,
      "outputs": []
    },
    {
      "metadata": {
        "trusted": true
      },
      "cell_type": "code",
      "source": "df.head()",
      "execution_count": 3,
      "outputs": [
        {
          "output_type": "execute_result",
          "execution_count": 3,
          "data": {
            "text/html": "<div>\n<style scoped>\n    .dataframe tbody tr th:only-of-type {\n        vertical-align: middle;\n    }\n\n    .dataframe tbody tr th {\n        vertical-align: top;\n    }\n\n    .dataframe thead th {\n        text-align: right;\n    }\n</style>\n<table border=\"1\" class=\"dataframe\">\n  <thead>\n    <tr style=\"text-align: right;\">\n      <th></th>\n      <th>prefid</th>\n      <th>pref</th>\n      <th>distnum</th>\n      <th>party</th>\n      <th>win</th>\n      <th>votes</th>\n      <th>tvotes</th>\n      <th>vshare</th>\n      <th>rank</th>\n    </tr>\n  </thead>\n  <tbody>\n    <tr>\n      <th>0</th>\n      <td>1</td>\n      <td>Hokkaido</td>\n      <td>1</td>\n      <td>Y</td>\n      <td>2</td>\n      <td>148429</td>\n      <td>267791</td>\n      <td>55.427180</td>\n      <td>1</td>\n    </tr>\n    <tr>\n      <th>1</th>\n      <td>1</td>\n      <td>Hokkaido</td>\n      <td>1</td>\n      <td>X</td>\n      <td>0</td>\n      <td>105918</td>\n      <td>267791</td>\n      <td>39.552487</td>\n      <td>2</td>\n    </tr>\n    <tr>\n      <th>2</th>\n      <td>1</td>\n      <td>Hokkaido</td>\n      <td>1</td>\n      <td>99</td>\n      <td>0</td>\n      <td>13444</td>\n      <td>267791</td>\n      <td>5.020333</td>\n      <td>3</td>\n    </tr>\n    <tr>\n      <th>3</th>\n      <td>1</td>\n      <td>Hokkaido</td>\n      <td>2</td>\n      <td>X</td>\n      <td>2</td>\n      <td>88667</td>\n      <td>228241</td>\n      <td>38.847972</td>\n      <td>1</td>\n    </tr>\n    <tr>\n      <th>4</th>\n      <td>1</td>\n      <td>Hokkaido</td>\n      <td>2</td>\n      <td>Z</td>\n      <td>0</td>\n      <td>56375</td>\n      <td>228241</td>\n      <td>24.699769</td>\n      <td>2</td>\n    </tr>\n  </tbody>\n</table>\n</div>",
            "text/plain": "   prefid      pref  distnum party  win   votes  tvotes     vshare  rank\n0       1  Hokkaido        1     Y    2  148429  267791  55.427180     1\n1       1  Hokkaido        1     X    0  105918  267791  39.552487     2\n2       1  Hokkaido        1    99    0   13444  267791   5.020333     3\n3       1  Hokkaido        2     X    2   88667  228241  38.847972     1\n4       1  Hokkaido        2     Z    0   56375  228241  24.699769     2"
          },
          "metadata": {}
        }
      ]
    },
    {
      "metadata": {
        "trusted": true
      },
      "cell_type": "code",
      "source": "table_mm = np.random.rand(47,7)\ntable_mm = pd.DataFrame(table_mm)\ntable_mm.columns = [\"選挙区数\",\"mean-median_自公\",\"mean-median_野党共闘(仮想)\",\"mean-median_維新\",\"標準偏差_自公\",\"標準偏差_野党共闘(仮想)\",\"標準偏差_維新\"]\ntable_mm = table_mm[table_mm[:] ==0]\ntable_mm.loc[:,\"県番号\"] = [bango for bango in range(1,48)]",
      "execution_count": 4,
      "outputs": []
    },
    {
      "metadata": {
        "trusted": true
      },
      "cell_type": "code",
      "source": "#県で分けて政党名を処理する\ndef get_pref(prefid):\n    get_pref = df[df[\"prefid\"].isin([int(prefid)])]\n    #get_pref = df[df[\"prefid\"] == prefid]\n    return get_pref",
      "execution_count": 5,
      "outputs": []
    },
    {
      "metadata": {
        "trusted": true
      },
      "cell_type": "code",
      "source": "prefname = []\nk = 1\nwhile k<=47:\n    pref = get_pref(k)\n    #各県の選挙区数\n    table_mm.iat[k-1,0] = pref[\"distnum\"][-1:]\n    \n    #都道府県名\n    prefname.append(pref[\"pref\"][-1:])\n    \n    zikou_df = pref[pref[\"party\"].isin([\"X\"])]\n    yatou_df = pref[pref[\"party\"].isin([\"Y\"])]\n    #vshareはパーセンテージなんですよね、/100します\n    zikou_vshare = zikou_df.loc[:,\"vshare\"]\n    zikou_vshare = zikou_vshare.values.tolist()\n    zikou_vshare_decimal = [n / 100 for n in zikou_vshare]\n    \n    yatou_vshare = yatou_df.loc[:,\"vshare\"]\n    yatou_vshare = yatou_vshare.values.tolist()\n    yatou_vshare_decimal = [n / 100 for n in yatou_vshare]\n    #mean,median\n    zikou_mean = statistics.mean(zikou_vshare_decimal)\n    zikou_median = statistics.median(zikou_vshare_decimal)\n    table_mm.iat[k-1,1] = zikou_median - zikou_mean\n    \n    yatou_mean = statistics.mean(yatou_vshare_decimal)\n    yatou_median = statistics.median(yatou_vshare_decimal)\n    table_mm.iat[k-1,2] = yatou_median - yatou_mean\n    #標準偏差を求めて代入    \n    sddv_zikou = np.array(zikou_vshare_decimal)\n    table_mm.iat[k-1,4] = np.std(sddv_zikou)\n    \n    sddv_yatou = np.array(yatou_vshare_decimal)\n    table_mm.iat[k-1,5] = np.std(sddv_yatou)\n    \n    #野党は別に全都道府県に立候補してないぞ??\n    \n    k = k+1",
      "execution_count": 6,
      "outputs": []
    },
    {
      "metadata": {
        "trusted": true
      },
      "cell_type": "code",
      "source": "number_dist = pd.read_excel(\"efgp_2014_parallel.xlsx\")\nnumber_dist.loc[:,\"県番号\"] = [bango for bango in range(1,48)]",
      "execution_count": 7,
      "outputs": []
    },
    {
      "metadata": {
        "trusted": true
      },
      "cell_type": "code",
      "source": "isin_bango = number_dist[number_dist[\"維新候補者数\"].isin([0]) == False].loc[:,\"県番号\"]\nfor kaisu in isin_bango:\n    pref = get_pref(kaisu)\n    isin_df = pref[pref[\"party\"].isin([\"Z\"])]\n    isin_vshare = isin_df.loc[:,\"vshare\"]\n    isin_vshare = isin_vshare.values.tolist()\n    isin_vshare_decimal = [n/100 for n in isin_vshare]\n    #mean,median\n    isin_mean = statistics.mean(isin_vshare_decimal)\n    isin_median = statistics.median(isin_vshare_decimal)\n    table_mm.iat[kaisu-1,3] = isin_median - isin_mean\n    #標準偏差を求めて代入    \n    sddv_isin = np.array(isin_vshare_decimal)\n    table_mm.iat[kaisu-1,6] = np.std(sddv_isin)",
      "execution_count": 8,
      "outputs": []
    },
    {
      "metadata": {
        "trusted": true
      },
      "cell_type": "code",
      "source": "table_mm.index = number_dist.index\n",
      "execution_count": 9,
      "outputs": []
    },
    {
      "metadata": {
        "trusted": true
      },
      "cell_type": "code",
      "source": "significance_level = np.random.rand(len(table_mm.index),3)\nsignificance_level = pd.DataFrame(significance_level) \nsignificance_level.index = table_mm.index\nsignificance_level.columns = [\"sgfl自公\",\"sgfl野党\",\"sgfl維新\"]\nsignificance_level = significance_level[significance_level[:] ==0]",
      "execution_count": 10,
      "outputs": []
    },
    {
      "metadata": {
        "trusted": true
      },
      "cell_type": "code",
      "source": "shili_list = [\"標準偏差_自公\",\"標準偏差_野党共闘(仮想)\",\"標準偏差_維新\"]\nfor nankai, shili in enumerate(shili_list):\n    seito_bango = table_mm[table_mm[shili].isin([0]) == False].loc[:,\"県番号\"]\n    for kaisu in seito_bango:\n        sgfl_shili = (table_mm.iat[kaisu-1,1+nankai] * (table_mm.iat[kaisu-1,0]**0.5) / (0.756 * table_mm.iat[kaisu-1,4+nankai]))\n        significance_level.iloc[kaisu-1,[nankai]] = sgfl_shili",
      "execution_count": 11,
      "outputs": []
    },
    {
      "metadata": {
        "trusted": true
      },
      "cell_type": "code",
      "source": "significance_level.head()",
      "execution_count": 12,
      "outputs": [
        {
          "output_type": "execute_result",
          "execution_count": 12,
          "data": {
            "text/html": "<div>\n<style scoped>\n    .dataframe tbody tr th:only-of-type {\n        vertical-align: middle;\n    }\n\n    .dataframe tbody tr th {\n        vertical-align: top;\n    }\n\n    .dataframe thead th {\n        text-align: right;\n    }\n</style>\n<table border=\"1\" class=\"dataframe\">\n  <thead>\n    <tr style=\"text-align: right;\">\n      <th></th>\n      <th>sgfl自公</th>\n      <th>sgfl野党</th>\n      <th>sgfl維新</th>\n    </tr>\n  </thead>\n  <tbody>\n    <tr>\n      <th>Hokkaido</th>\n      <td>-0.138784</td>\n      <td>1.570409</td>\n      <td>0.0</td>\n    </tr>\n    <tr>\n      <th>Aomori</th>\n      <td>-0.144222</td>\n      <td>-0.182239</td>\n      <td>0.0</td>\n    </tr>\n    <tr>\n      <th>Iwate</th>\n      <td>-1.094880</td>\n      <td>0.156530</td>\n      <td>NaN</td>\n    </tr>\n    <tr>\n      <th>Miyagi</th>\n      <td>-0.106688</td>\n      <td>0.284605</td>\n      <td>NaN</td>\n    </tr>\n    <tr>\n      <th>Akita</th>\n      <td>-1.359492</td>\n      <td>1.159711</td>\n      <td>NaN</td>\n    </tr>\n  </tbody>\n</table>\n</div>",
            "text/plain": "            sgfl自公    sgfl野党  sgfl維新\nHokkaido -0.138784  1.570409     0.0\nAomori   -0.144222 -0.182239     0.0\nIwate    -1.094880  0.156530     NaN\nMiyagi   -0.106688  0.284605     NaN\nAkita    -1.359492  1.159711     NaN"
          },
          "metadata": {}
        }
      ]
    },
    {
      "metadata": {
        "trusted": true
      },
      "cell_type": "code",
      "source": "zero = significance_level[(significance_level.iloc[:,:] >= 1.75) | (significance_level.iloc[:,:] <= -1.75)]\nzero = zero.dropna(how = \"all\")\nzero",
      "execution_count": 14,
      "outputs": [
        {
          "output_type": "execute_result",
          "execution_count": 14,
          "data": {
            "text/html": "<div>\n<style scoped>\n    .dataframe tbody tr th:only-of-type {\n        vertical-align: middle;\n    }\n\n    .dataframe tbody tr th {\n        vertical-align: top;\n    }\n\n    .dataframe thead th {\n        text-align: right;\n    }\n</style>\n<table border=\"1\" class=\"dataframe\">\n  <thead>\n    <tr style=\"text-align: right;\">\n      <th></th>\n      <th>sgfl自公</th>\n      <th>sgfl野党</th>\n      <th>sgfl維新</th>\n    </tr>\n  </thead>\n  <tbody>\n    <tr>\n      <th>Saitama</th>\n      <td>NaN</td>\n      <td>2.796449</td>\n      <td>3.080848</td>\n    </tr>\n    <tr>\n      <th>Chiba</th>\n      <td>NaN</td>\n      <td>2.478287</td>\n      <td>-2.463941</td>\n    </tr>\n    <tr>\n      <th>Gifu</th>\n      <td>NaN</td>\n      <td>1.821977</td>\n      <td>NaN</td>\n    </tr>\n    <tr>\n      <th>Aichi</th>\n      <td>NaN</td>\n      <td>1.791112</td>\n      <td>NaN</td>\n    </tr>\n    <tr>\n      <th>Osaka</th>\n      <td>NaN</td>\n      <td>-2.799819</td>\n      <td>NaN</td>\n    </tr>\n  </tbody>\n</table>\n</div>",
            "text/plain": "         sgfl自公    sgfl野党    sgfl維新\nSaitama     NaN  2.796449  3.080848\nChiba       NaN  2.478287 -2.463941\nGifu        NaN  1.821977       NaN\nAichi       NaN  1.791112       NaN\nOsaka       NaN -2.799819       NaN"
          },
          "metadata": {}
        }
      ]
    },
    {
      "metadata": {
        "trusted": true
      },
      "cell_type": "code",
      "source": "koeta = [\"Saitama\",\"Chiba\",\"Gifu\",\"Aichi\",\"Osaka\"]\nchanged_pref = [\"Hokkaido\",\"Aomori\",\"Iwate\",\"Miyagi\",\"Fukushima\",\"Saitama\",\"Chiba\",\"Tokyo\",\"Kanagawa\",\"Aichi\",\"Mie\",\"Osaka\",\"Hyogo\",\"Nara\",\"Ehime\",\"Fukuoka\",\"Nagasaki\",\"Kumamoto\",\"Kagoshima\"]",
      "execution_count": 15,
      "outputs": []
    },
    {
      "metadata": {
        "trusted": true
      },
      "cell_type": "code",
      "source": "henka_table = pd.read_excel(\"2017-2014parallel_fluctuation.xlsx\")\nsig2017 = pd.read_excel(\"2017significance_level.xlsx\")",
      "execution_count": 22,
      "outputs": []
    },
    {
      "metadata": {
        "trusted": true
      },
      "cell_type": "code",
      "source": "xugou_sig_2014 = significance_level.loc[changed_pref]\nxugou_sig_2014.columns = [\"sgfl自公\",\"sgfl野党1\",\"sgfl野党2\"]\n#sig2017 = sig2017.set_index(\"都道府県\")\nsig2017_aru = sig2017.loc[changed_pref]\nsig2017_aru.columns = [\"sgfl自公\",\"sgfl野党1\",\"sgfl野党2\"]",
      "execution_count": 27,
      "outputs": []
    },
    {
      "metadata": {
        "trusted": true
      },
      "cell_type": "code",
      "source": "hikaku_nokoru = pd.read_excel('2017-2017candidates.xlsx')",
      "execution_count": 44,
      "outputs": []
    },
    {
      "metadata": {
        "trusted": true
      },
      "cell_type": "code",
      "source": "sig_henka = sig2017_aru - xugou_sig_2014\nawase = pd.concat([hikaku_nokoru,henka_table,sig_henka],axis=1)",
      "execution_count": 45,
      "outputs": []
    },
    {
      "metadata": {
        "trusted": true
      },
      "cell_type": "code",
      "source": "awase",
      "execution_count": 46,
      "outputs": [
        {
          "output_type": "execute_result",
          "execution_count": 46,
          "data": {
            "text/html": "<div>\n<style scoped>\n    .dataframe tbody tr th:only-of-type {\n        vertical-align: middle;\n    }\n\n    .dataframe tbody tr th {\n        vertical-align: top;\n    }\n\n    .dataframe thead th {\n        text-align: right;\n    }\n</style>\n<table border=\"1\" class=\"dataframe\">\n  <thead>\n    <tr style=\"text-align: right;\">\n      <th></th>\n      <th>自公候補者数増減</th>\n      <th>野党共闘候補者数増減</th>\n      <th>維新系候補者数増減</th>\n      <th>自公連立当選者数</th>\n      <th>野党共闘1当選者数</th>\n      <th>野党共闘2当選者数</th>\n      <th>sgfl自公</th>\n      <th>sgfl野党1</th>\n      <th>sgfl野党2</th>\n    </tr>\n    <tr>\n      <th>都道府県</th>\n      <th></th>\n      <th></th>\n      <th></th>\n      <th></th>\n      <th></th>\n      <th></th>\n      <th></th>\n      <th></th>\n      <th></th>\n    </tr>\n  </thead>\n  <tbody>\n    <tr>\n      <th>Hokkaido</th>\n      <td>0</td>\n      <td>-1</td>\n      <td>1</td>\n      <td>-2</td>\n      <td>1</td>\n      <td>0</td>\n      <td>-1.563328</td>\n      <td>0.703943</td>\n      <td>1.953886</td>\n    </tr>\n    <tr>\n      <th>Aomori</th>\n      <td>-1</td>\n      <td>-1</td>\n      <td>1</td>\n      <td>-1</td>\n      <td>0</td>\n      <td>0</td>\n      <td>1.713791</td>\n      <td>-0.456548</td>\n      <td>-1.190040</td>\n    </tr>\n    <tr>\n      <th>Iwate</th>\n      <td>-1</td>\n      <td>-3</td>\n      <td>2</td>\n      <td>0</td>\n      <td>-2</td>\n      <td>1</td>\n      <td>0.589883</td>\n      <td>NaN</td>\n      <td>NaN</td>\n    </tr>\n    <tr>\n      <th>Miyagi</th>\n      <td>0</td>\n      <td>-2</td>\n      <td>1</td>\n      <td>0</td>\n      <td>-1</td>\n      <td>0</td>\n      <td>-0.270316</td>\n      <td>-2.053783</td>\n      <td>NaN</td>\n    </tr>\n    <tr>\n      <th>Fukushima</th>\n      <td>0</td>\n      <td>-3</td>\n      <td>1</td>\n      <td>0</td>\n      <td>-1</td>\n      <td>-1</td>\n      <td>-0.596192</td>\n      <td>-0.956038</td>\n      <td>NaN</td>\n    </tr>\n    <tr>\n      <th>Saitama</th>\n      <td>0</td>\n      <td>0</td>\n      <td>7</td>\n      <td>0</td>\n      <td>-1</td>\n      <td>1</td>\n      <td>1.201913</td>\n      <td>-4.246879</td>\n      <td>-2.586180</td>\n    </tr>\n    <tr>\n      <th>Chiba</th>\n      <td>0</td>\n      <td>-4</td>\n      <td>7</td>\n      <td>1</td>\n      <td>-2</td>\n      <td>0</td>\n      <td>-1.144950</td>\n      <td>-4.502583</td>\n      <td>0.942230</td>\n    </tr>\n    <tr>\n      <th>Tokyo</th>\n      <td>0</td>\n      <td>-9</td>\n      <td>16</td>\n      <td>-3</td>\n      <td>3</td>\n      <td>0</td>\n      <td>0.933122</td>\n      <td>-0.008318</td>\n      <td>-2.091076</td>\n    </tr>\n    <tr>\n      <th>Kanagawa</th>\n      <td>0</td>\n      <td>-1</td>\n      <td>9</td>\n      <td>-1</td>\n      <td>1</td>\n      <td>0</td>\n      <td>0.756304</td>\n      <td>-1.434594</td>\n      <td>0.339875</td>\n    </tr>\n    <tr>\n      <th>Aichi</th>\n      <td>0</td>\n      <td>-2</td>\n      <td>9</td>\n      <td>0</td>\n      <td>-4</td>\n      <td>2</td>\n      <td>0.929658</td>\n      <td>-4.000345</td>\n      <td>0.464848</td>\n    </tr>\n    <tr>\n      <th>Mie</th>\n      <td>-1</td>\n      <td>-3</td>\n      <td>0</td>\n      <td>-1</td>\n      <td>-2</td>\n      <td>0</td>\n      <td>0.448424</td>\n      <td>-0.225318</td>\n      <td>NaN</td>\n    </tr>\n    <tr>\n      <th>Osaka</th>\n      <td>0</td>\n      <td>-5</td>\n      <td>1</td>\n      <td>1</td>\n      <td>0</td>\n      <td>-2</td>\n      <td>-0.447991</td>\n      <td>0.210013</td>\n      <td>-0.028542</td>\n    </tr>\n    <tr>\n      <th>Hyogo</th>\n      <td>1</td>\n      <td>0</td>\n      <td>-1</td>\n      <td>3</td>\n      <td>-1</td>\n      <td>-1</td>\n      <td>1.657032</td>\n      <td>-1.230740</td>\n      <td>-0.622235</td>\n    </tr>\n    <tr>\n      <th>Nara</th>\n      <td>-1</td>\n      <td>-1</td>\n      <td>1</td>\n      <td>0</td>\n      <td>-1</td>\n      <td>0</td>\n      <td>0.517537</td>\n      <td>-0.718030</td>\n      <td>NaN</td>\n    </tr>\n    <tr>\n      <th>Ehime</th>\n      <td>0</td>\n      <td>0</td>\n      <td>1</td>\n      <td>-1</td>\n      <td>0</td>\n      <td>1</td>\n      <td>0.121785</td>\n      <td>0.020231</td>\n      <td>-0.064897</td>\n    </tr>\n    <tr>\n      <th>Fukuoka</th>\n      <td>1</td>\n      <td>-1</td>\n      <td>7</td>\n      <td>1</td>\n      <td>0</td>\n      <td>0</td>\n      <td>1.495442</td>\n      <td>-1.125761</td>\n      <td>NaN</td>\n    </tr>\n    <tr>\n      <th>Nagasaki</th>\n      <td>0</td>\n      <td>0</td>\n      <td>3</td>\n      <td>-1</td>\n      <td>0</td>\n      <td>1</td>\n      <td>1.511182</td>\n      <td>0.869023</td>\n      <td>NaN</td>\n    </tr>\n    <tr>\n      <th>Kumamoto</th>\n      <td>0</td>\n      <td>-2</td>\n      <td>0</td>\n      <td>0</td>\n      <td>0</td>\n      <td>0</td>\n      <td>-1.176951</td>\n      <td>-0.353259</td>\n      <td>NaN</td>\n    </tr>\n    <tr>\n      <th>Kagoshima</th>\n      <td>-1</td>\n      <td>-1</td>\n      <td>2</td>\n      <td>-1</td>\n      <td>1</td>\n      <td>0</td>\n      <td>-2.120383</td>\n      <td>-0.955588</td>\n      <td>NaN</td>\n    </tr>\n  </tbody>\n</table>\n</div>",
            "text/plain": "           自公候補者数増減  野党共闘候補者数増減  維新系候補者数増減  自公連立当選者数  野党共闘1当選者数  野党共闘2当選者数  \\\n都道府県                                                                         \nHokkaido          0          -1          1        -2          1          0   \nAomori           -1          -1          1        -1          0          0   \nIwate            -1          -3          2         0         -2          1   \nMiyagi            0          -2          1         0         -1          0   \nFukushima         0          -3          1         0         -1         -1   \nSaitama           0           0          7         0         -1          1   \nChiba             0          -4          7         1         -2          0   \nTokyo             0          -9         16        -3          3          0   \nKanagawa          0          -1          9        -1          1          0   \nAichi             0          -2          9         0         -4          2   \nMie              -1          -3          0        -1         -2          0   \nOsaka             0          -5          1         1          0         -2   \nHyogo             1           0         -1         3         -1         -1   \nNara             -1          -1          1         0         -1          0   \nEhime             0           0          1        -1          0          1   \nFukuoka           1          -1          7         1          0          0   \nNagasaki          0           0          3        -1          0          1   \nKumamoto          0          -2          0         0          0          0   \nKagoshima        -1          -1          2        -1          1          0   \n\n             sgfl自公   sgfl野党1   sgfl野党2  \n都道府県                                     \nHokkaido  -1.563328  0.703943  1.953886  \nAomori     1.713791 -0.456548 -1.190040  \nIwate      0.589883       NaN       NaN  \nMiyagi    -0.270316 -2.053783       NaN  \nFukushima -0.596192 -0.956038       NaN  \nSaitama    1.201913 -4.246879 -2.586180  \nChiba     -1.144950 -4.502583  0.942230  \nTokyo      0.933122 -0.008318 -2.091076  \nKanagawa   0.756304 -1.434594  0.339875  \nAichi      0.929658 -4.000345  0.464848  \nMie        0.448424 -0.225318       NaN  \nOsaka     -0.447991  0.210013 -0.028542  \nHyogo      1.657032 -1.230740 -0.622235  \nNara       0.517537 -0.718030       NaN  \nEhime      0.121785  0.020231 -0.064897  \nFukuoka    1.495442 -1.125761       NaN  \nNagasaki   1.511182  0.869023       NaN  \nKumamoto  -1.176951 -0.353259       NaN  \nKagoshima -2.120383 -0.955588       NaN  "
          },
          "metadata": {}
        }
      ]
    },
    {
      "metadata": {
        "trusted": true
      },
      "cell_type": "code",
      "source": "",
      "execution_count": null,
      "outputs": []
    }
  ],
  "metadata": {
    "kernelspec": {
      "name": "python36",
      "display_name": "Python 3.6",
      "language": "python"
    },
    "language_info": {
      "mimetype": "text/x-python",
      "nbconvert_exporter": "python",
      "name": "python",
      "pygments_lexer": "ipython3",
      "version": "3.6.6",
      "file_extension": ".py",
      "codemirror_mode": {
        "version": 3,
        "name": "ipython"
      }
    }
  },
  "nbformat": 4,
  "nbformat_minor": 2
}